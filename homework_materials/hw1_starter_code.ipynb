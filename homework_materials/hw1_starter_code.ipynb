{
 "cells": [
  {
   "cell_type": "code",
   "execution_count": 1,
   "metadata": {
    "id": "6w4VWiJ9XUsY",
    "tags": []
   },
   "outputs": [],
   "source": [
    "#@title Imports and Initialization\n",
    "# %pip install datasets\n",
    "# %pip install textwrap\n",
    "# %pip install openai\n",
    "# %pip install scipy\n",
    "# %pip install matplotlib\n",
    "\n",
    "import collections\n",
    "from abc import ABC\n",
    "import datasets\n",
    "import json\n",
    "import openai\n",
    "import numpy as np\n",
    "from scipy.special import softmax\n",
    "import textwrap\n",
    "import matplotlib.pyplot as plt\n",
    "from IPython.display import clear_output\n",
    "\n",
    "OPENAI_SECRET_KEY = None\n",
    "\n",
    "clear_output()"
   ]
  },
  {
   "cell_type": "markdown",
   "metadata": {
    "id": "0Osx3WttDwKN"
   },
   "source": [
    "# Setup the OpenAI API\n",
    "\n",
    "1. Go to www.openai.com and log into your account.\n",
    "2. Go to https://platform.openai.com/account/api-keys and click the \"Create new secret key\" button. It doesn't matter what you name it.\n",
    "3. Copy your API key, and then run the code block below. It will ask you to enter your secret key into a text box."
   ]
  },
  {
   "cell_type": "code",
   "execution_count": 4,
   "metadata": {
    "id": "WUzM-DZsD9ZR",
    "tags": []
   },
   "outputs": [],
   "source": [
    "if OPENAI_SECRET_KEY is None:\n",
    "  print(\"Please paste your OpenAI API key here:\")\n",
    "  OPENAI_SECRET_KEY = input().strip()\n",
    "openai.api_key = OPENAI_SECRET_KEY\n",
    "clear_output()\n",
    "\n",
    "class OpenAIEngine():\n",
    "  def __init__(self, model_name):\n",
    "    self.model_name = model_name\n",
    "\n",
    "  def score(self, text):\n",
    "    \"\"\"Tokenizes and scores a piece of text.\n",
    "\n",
    "    This only works for the OpenAI models which support the legacy `Completion`\n",
    "    API.\n",
    "\n",
    "    The score is log-likelihood. A higher score means a token was more\n",
    "    likely according to the model.\n",
    "\n",
    "    Returns a list of tokens and a list of scores.\n",
    "    \"\"\"\n",
    "    response = openai.Completion.create(\n",
    "        engine=self.model_name,\n",
    "        prompt=text,\n",
    "        max_tokens=0,\n",
    "        logprobs=1,\n",
    "        echo=True)\n",
    "\n",
    "    tokens = response[\"choices\"][0][\"logprobs\"][\"tokens\"]\n",
    "    logprobs = response[\"choices\"][0][\"logprobs\"][\"token_logprobs\"]\n",
    "    if logprobs and logprobs[0] is None:\n",
    "      # GPT-3 API does not return logprob of the first token\n",
    "      logprobs[0] = 0.0\n",
    "    return tokens, logprobs\n",
    "\n",
    "  def perplexity(self, text):\n",
    "    \"\"\"Compute the perplexity of the provided text.\"\"\"\n",
    "    completion = openai.Completion.create(\n",
    "        model=self.model_name,\n",
    "        prompt=text,\n",
    "        logprobs=0,\n",
    "        max_tokens=0,\n",
    "        temperature=1.0,\n",
    "        echo=True)\n",
    "    token_logprobs = completion['choices'][0]['logprobs']['token_logprobs']\n",
    "    nll = np.mean([i for i in token_logprobs if i is not None])\n",
    "    ppl = np.exp(-nll)\n",
    "    return ppl\n",
    "\n",
    "  def generate(self,\n",
    "               prompt,\n",
    "               top_p=1.0,\n",
    "               num_tokens=32,\n",
    "               num_samples=1,\n",
    "               frequency_penalty=0.0,\n",
    "              presence_penalty=0.0):\n",
    "    \"\"\"Generates text given the provided prompt text.\n",
    "\n",
    "    This only works for the OpenAI models which support the legacy `Completion`\n",
    "    API.\n",
    "\n",
    "    If num_samples is 1, a single generated string is returned.\n",
    "    If num_samples > 1, a list of num_samples generated strings is returned.\n",
    "    \"\"\"\n",
    "    response = openai.Completion.create(\n",
    "      engine=self.model_name,\n",
    "      prompt=prompt,\n",
    "      temperature=1.0,\n",
    "      max_tokens=num_tokens,\n",
    "      top_p=top_p,\n",
    "      n=num_samples,\n",
    "      frequency_penalty=frequency_penalty,\n",
    "      presence_penalty=presence_penalty,\n",
    "      logprobs=1,\n",
    "    )\n",
    "    outputs = [r[\"text\"] for r in response[\"choices\"]]\n",
    "    return outputs[0] if num_samples == 1 else outputs\n",
    "\n",
    "\n",
    "  def chat_generate(self,\n",
    "                    previous_messages,\n",
    "                    top_p=1.0,\n",
    "                    num_tokens=32,\n",
    "                    num_samples=1,\n",
    "                    frequency_penalty=0.0,\n",
    "                    presence_penalty=0.0):\n",
    "    response = openai.ChatCompletion.create(\n",
    "      model=self.model_name,\n",
    "      messages=previous_messages,\n",
    "      temperature=1.0,\n",
    "      max_tokens=num_tokens,\n",
    "      top_p=top_p,\n",
    "      frequency_penalty=frequency_penalty,\n",
    "      presence_penalty=presence_penalty,\n",
    "      n=num_samples,\n",
    "    )\n",
    "    return response"
   ]
  },
  {
   "cell_type": "markdown",
   "metadata": {
    "id": "igSK0NUbwhi0"
   },
   "source": [
    "# Question 1: Observing the Impact of Decoding Strategy"
   ]
  },
  {
   "cell_type": "markdown",
   "metadata": {
    "id": "jaacqKL7fMBF"
   },
   "source": [
    "## 1.1: Rolling a Twenty-Sided Die"
   ]
  },
  {
   "cell_type": "code",
   "execution_count": 5,
   "metadata": {
    "id": "-xdzzlM3gtxr",
    "tags": []
   },
   "outputs": [],
   "source": [
    "MODEL_NAME = \"davinci-002\"\n",
    "engine = OpenAIEngine(MODEL_NAME)"
   ]
  },
  {
   "cell_type": "code",
   "execution_count": 458,
   "metadata": {
    "tags": []
   },
   "outputs": [],
   "source": [
    "number_map = {\n",
    "    \"one\": 1,\n",
    "    \"two\": 2,\n",
    "    \"three\": 3,\n",
    "    \"four\": 4,\n",
    "    \"five\": 5,\n",
    "    \"six\": 6,\n",
    "    \"seven\": 7,\n",
    "    \"eight\": 8,\n",
    "    \"nine\": 9,\n",
    "    \"ten\": 10,\n",
    "    \"eleven\": 11,\n",
    "    \"twelve\": 12,\n",
    "    \"thirteen\": 13,\n",
    "    \"fourteen\": 14,\n",
    "    \"fifteen\": 15,\n",
    "    \"sixteen\": 16,\n",
    "    \"seventeen\": 17,\n",
    "    \"eighteen\": 18,\n",
    "    \"nineteen\": 19,\n",
    "    \"twenty\": 20\n",
    "}"
   ]
  },
  {
   "cell_type": "code",
   "execution_count": 955,
   "metadata": {
    "id": "pOshmMOzh74a",
    "tags": []
   },
   "outputs": [],
   "source": [
    "# prompt = \"Let's roll a D20. The die shows the number\"\n",
    "# prompt = \"Let's roll a D20, which randomly get a number from 1 to 20, the number is?\"\n",
    "# prompt = \"Let's roll a D20, which number does this die show?\"\n",
    "prompt = \"Let's roll a D20, the number is\"\n",
    "rolls = engine.generate(prompt, num_tokens=2, num_samples=128, top_p=0.2)\n",
    "# rolls = engine.generate(prompt, num_samples=128, top_p=0.8)\n",
    "expected_number_of_outcomes = 20"
   ]
  },
  {
   "cell_type": "code",
   "execution_count": 956,
   "metadata": {
    "colab": {
     "base_uri": "https://localhost:8080/"
    },
    "id": "0xIvyZesgwlT",
    "outputId": "c92d1ad3-bfbe-4169-db8b-3abf8569ce05",
    "tags": []
   },
   "outputs": [
    {
     "name": "stdout",
     "output_type": "stream",
     "text": [
      "Counter({-1: 47, 15: 32, 10: 26, 20: 23})\n",
      "Percentage of valid outcomes generated: 0.15\n"
     ]
    }
   ],
   "source": [
    "rolls_counter = collections.Counter()\n",
    "\n",
    "for roll in rolls:\n",
    "  try:\n",
    "    roll_num = int(roll.strip())\n",
    "    # Let's label invalid numbers as -1\n",
    "    roll_num = roll_num if 1 <= roll_num <= 20 else -1\n",
    "  except ValueError:\n",
    "    # Let's just label invalid generation as a roll of -1.\n",
    "    if (number_map.get(roll.lower().strip())):\n",
    "        roll_num = number_map.get(roll.lower().strip());\n",
    "    else:\n",
    "        roll_num = -1\n",
    "  rolls_counter[roll_num] += 1\n",
    "\n",
    "print(rolls_counter)\n",
    "print(\"Percentage of valid outcomes generated:\",\n",
    "      (len(rolls_counter)-1)/expected_number_of_outcomes)"
   ]
  },
  {
   "cell_type": "code",
   "execution_count": 957,
   "metadata": {
    "tags": []
   },
   "outputs": [
    {
     "data": {
      "text/plain": [
       "{' 10', ' 15', ' 20', ' the number'}"
      ]
     },
     "execution_count": 957,
     "metadata": {},
     "output_type": "execute_result"
    }
   ],
   "source": [
    "set(rolls)"
   ]
  },
  {
   "cell_type": "code",
   "execution_count": 958,
   "metadata": {
    "collapsed": true,
    "jupyter": {
     "outputs_hidden": true
    },
    "tags": []
   },
   "outputs": [
    {
     "name": "stdout",
     "output_type": "stream",
     "text": [
      " the number\n",
      " 15\n",
      " 15\n",
      " 15\n",
      " 20\n",
      " the number\n",
      " 10\n",
      " the number\n",
      " 10\n",
      " 10\n",
      " the number\n",
      " 15\n",
      " 20\n",
      " 10\n",
      " 10\n",
      " 10\n",
      " 15\n",
      " 15\n",
      " 20\n",
      " the number\n",
      " the number\n",
      " the number\n",
      " the number\n",
      " 10\n",
      " 15\n",
      " 10\n",
      " 20\n",
      " 15\n",
      " the number\n",
      " the number\n",
      " 15\n",
      " 20\n",
      " the number\n",
      " 15\n",
      " the number\n",
      " 10\n",
      " the number\n",
      " 15\n",
      " 20\n",
      " 10\n",
      " 10\n",
      " the number\n",
      " the number\n",
      " 20\n",
      " 15\n",
      " 15\n",
      " 10\n",
      " the number\n",
      " the number\n",
      " 10\n",
      " the number\n",
      " the number\n",
      " 20\n",
      " 10\n",
      " the number\n",
      " 15\n",
      " 10\n",
      " 15\n",
      " 15\n",
      " 15\n",
      " 20\n",
      " the number\n",
      " the number\n",
      " 20\n",
      " 10\n",
      " 10\n",
      " the number\n",
      " 15\n",
      " 20\n",
      " 15\n",
      " 20\n",
      " 10\n",
      " 20\n",
      " 10\n",
      " the number\n",
      " the number\n",
      " 15\n",
      " 10\n",
      " the number\n",
      " the number\n",
      " 10\n",
      " 15\n",
      " the number\n",
      " the number\n",
      " the number\n",
      " the number\n",
      " 20\n",
      " the number\n",
      " the number\n",
      " the number\n",
      " the number\n",
      " 20\n",
      " 15\n",
      " 15\n",
      " the number\n",
      " the number\n",
      " 15\n",
      " 20\n",
      " 20\n",
      " the number\n",
      " 10\n",
      " 10\n",
      " 15\n",
      " 15\n",
      " 20\n",
      " the number\n",
      " the number\n",
      " 15\n",
      " the number\n",
      " 15\n",
      " 10\n",
      " 15\n",
      " 10\n",
      " the number\n",
      " 15\n",
      " 20\n",
      " 20\n",
      " 15\n",
      " 20\n",
      " 20\n",
      " 20\n",
      " the number\n",
      " 10\n",
      " 15\n",
      " the number\n",
      " the number\n",
      " the number\n",
      " the number\n"
     ]
    }
   ],
   "source": [
    "for roll in rolls:\n",
    "    print(roll)"
   ]
  },
  {
   "cell_type": "code",
   "execution_count": 959,
   "metadata": {
    "tags": []
   },
   "outputs": [],
   "source": [
    "def get_valid_counter(counter):\n",
    "    # Define the value to remove\n",
    "    value_to_remove = -1\n",
    "\n",
    "    # Get the frequency of the value to remove\n",
    "    frequency_to_remove = counter[value_to_remove]\n",
    "\n",
    "    # Remove the value from the Counter\n",
    "    counter.subtract({value_to_remove: frequency_to_remove})\n",
    "\n",
    "    # Remove any negative counts (optional)\n",
    "    for key in list(counter):\n",
    "        if counter[key] <= 0:\n",
    "            del counter[key]\n",
    "\n",
    "    return(counter)"
   ]
  },
  {
   "cell_type": "code",
   "execution_count": 960,
   "metadata": {
    "tags": []
   },
   "outputs": [
    {
     "data": {
      "image/png": "[encoded data removed]",
      "text/plain": [
       "<Figure size 640x480 with 1 Axes>"
      ]
     },
     "metadata": {},
     "output_type": "display_data"
    }
   ],
   "source": [
    "# unique_tokens, counts = np.unique(rolls, return_counts=True)\n",
    "valid_counter = get_valid_counter(rolls_counter)\n",
    "valid_num, counts = zip(*valid_counter.items())\n",
    "\n",
    "# str_num = [str(num) for num in valid_num]\n",
    "\n",
    "plt.bar(valid_num, counts)\n",
    "plt.xlabel('valid_num')\n",
    "plt.ylabel('Counts')\n",
    "plt.title('Distribution of the valid responses')\n",
    "plt.xticks(rotation=45)\n",
    "plt.xticks(range(1, 22))\n",
    "plt.show()"
   ]
  },
  {
   "cell_type": "code",
   "execution_count": 736,
   "metadata": {
    "tags": []
   },
   "outputs": [
    {
     "name": "stdout",
     "output_type": "stream",
     "text": [
      "Counter({17: 4, 19: 4, 12: 4, 6: 3, 1: 3, 11: 3, 16: 3, 13: 2, 4: 2, 9: 2, 8: 2, 14: 2, 7: 1, 20: 1, 10: 1, 3: 1, 18: 1, 2: 1})\n",
      "Percentage of valid outcomes generated: 0.85\n"
     ]
    }
   ],
   "source": [
    "# try random generation\n",
    "import random\n",
    "\n",
    "rand_counter = collections.Counter()\n",
    "\n",
    "for i in range(40):\n",
    "    rand = random.randint(1, 20)\n",
    "    rand_counter[rand] += 1\n",
    "    # print(i)\n",
    "\n",
    "print(rand_counter)\n",
    "print(\"Percentage of valid outcomes generated:\",\n",
    "      (len(rand_counter)-1)/expected_number_of_outcomes)"
   ]
  },
  {
   "cell_type": "code",
   "execution_count": 607,
   "metadata": {
    "scrolled": true,
    "tags": []
   },
   "outputs": [
    {
     "data": {
      "image/png": "[encoded data removed]",
      "text/plain": [
       "<Figure size 640x480 with 1 Axes>"
      ]
     },
     "metadata": {},
     "output_type": "display_data"
    }
   ],
   "source": [
    "num, counts = zip(*rand_counter.items())\n",
    "\n",
    "# str_num = [str(num) for num in valid_num]\n",
    "\n",
    "plt.bar(num, counts)\n",
    "plt.xlabel('Number')\n",
    "plt.ylabel('Counts')\n",
    "plt.title('Distribution of the Number frequency')\n",
    "plt.xticks(rotation=45)\n",
    "plt.xticks(range(min(valid_num), 22))\n",
    "plt.show()"
   ]
  },
  {
   "cell_type": "markdown",
   "metadata": {
    "id": "zWXWJ7hHfO39"
   },
   "source": [
    "## 1.2: Longform Generation"
   ]
  },
  {
   "cell_type": "code",
   "execution_count": 16,
   "metadata": {},
   "outputs": [],
   "source": [
    "import math\n",
    "\n",
    "def calculate_ttr(text):\n",
    "    words = text.split()\n",
    "    unique_words = set(words)\n",
    "    ttr = len(unique_words) / len(words)\n",
    "    return ttr\n",
    "\n",
    "def calculate_malones_measure(text):\n",
    "    words = text.split()\n",
    "    unique_words = set(words)\n",
    "    d = 1 - (len(unique_words) / len(words))\n",
    "    return d\n",
    "\n",
    "def calculate_herdans_c(text):\n",
    "    words = text.split()\n",
    "    unique_words = set(words)\n",
    "    vocabulary_size = len(unique_words)\n",
    "    n = len(words)\n",
    "    c = vocabulary_size / math.sqrt(n)\n",
    "    return c"
   ]
  },
  {
   "cell_type": "code",
   "execution_count": 68,
   "metadata": {},
   "outputs": [],
   "source": [
    "def output_res(res, top_p, frequency_penalty):\n",
    "    print(f'Response: {res}\\n')\n",
    "    print(f'top_p = {top_p}')\n",
    "    print(f'frequency_penalty = {frequency_penalty}')\n",
    "    print(f'TTR: {calculate_ttr(res)}')\n",
    "    # print(f'Malone\\'s Measure: {calculate_malones_measure(res)}')\n",
    "    # print(f'Herdan\\'s C: {calculate_herdans_c(res)}')"
   ]
  },
  {
   "cell_type": "markdown",
   "metadata": {},
   "source": [
    "### Using a prompt of your choice, instruct the language model to generate a 256-token story."
   ]
  },
  {
   "cell_type": "code",
   "execution_count": 60,
   "metadata": {
    "colab": {
     "base_uri": "https://localhost:8080/",
     "height": 87
    },
    "id": "EnGViJT0ha4g",
    "outputId": "171e71cb-f608-4249-b197-1f692f6233d4"
   },
   "outputs": [
    {
     "name": "stdout",
     "output_type": "stream",
     "text": [
      "Response: . He has a lot of money and he is very smart. He has a lot of ideas and he is very creative. He has a lot of time and he is very patient. He has a lot of people and he is very friendly. He has a lot of materials and he is very rich. He has a lot of time and he is very patient. He has a lot of money and he is very rich. He has a lot of people and he is very friendly. He has a lot of ideas and he is very creative. He has a lot of materials and he is very rich. He has a lot of time and he is very patient. He has a lot of money and he is very rich. He has a lot of people and he is very friendly. He has a lot of ideas and he is very creative. He has a lot of materials and he is very rich. He has a lot of time and he is very patient. He has a lot of money and he is very rich. He has a lot of people and he is very friendly. He has a lot of ideas and he is very creative. He has a lot of materials and he is very rich. He has a lot of time and he is very patient. He has a\n",
      "\n",
      "top_p = 0.0\n",
      "TTR: 0.0851063829787234\n"
     ]
    }
   ],
   "source": [
    "# Prompt with top_p = 0.0\n",
    "prompt = \"Once upon a time, there is a scientist wanting to create a time machine\"\n",
    "res = engine.generate(prompt, num_tokens=256, num_samples=1, top_p=0.0, frequency_penalty=0.0)\n",
    "\n",
    "output_res(res, 0.0)"
   ]
  },
  {
   "cell_type": "code",
   "execution_count": 61,
   "metadata": {},
   "outputs": [
    {
     "name": "stdout",
     "output_type": "stream",
     "text": [
      "Response: . He found a way to do it, but he also found out that the time machine is not able to go back in time. The scientist was so disappointed. But he found out that the time machine can go forward in time. So he started to create a new time machine that can go forward in time. The scientist created a new time machine and it was able to go forward in time. He was so happy.\n",
      "\n",
      "But the scientist also found out that the time machine is not able to go forward in time. He was so disappointed. He thought about it and thought about it. He finally found out that the time machine can go forward in time. So he started to create a new time machine that can go forward in time. The scientist created a new time machine and it was able to go forward in time. He was so happy.\n",
      "\n",
      "But the scientist also found out that the time machine is not able to go forward in time. He was so disappointed. He thought about it and thought about it. He finally found out that the time machine can go forward in time. So he started to create a new time machine that can go forward in time. The scientist created a new time machine and it was able to go forward in time. He was\n",
      "\n",
      "top_p = 0.5\n",
      "TTR: 0.1853448275862069\n"
     ]
    }
   ],
   "source": [
    "# Prompt with top_p = 0.5\n",
    "prompt = \"Once upon a time, there is a scientist wanting to create a time machine\"\n",
    "res = engine.generate(prompt, num_tokens=256, num_samples=1, top_p=0.5, frequency_penalty=0.0)\n",
    "output_res(res, 0.5)"
   ]
  },
  {
   "cell_type": "code",
   "execution_count": 62,
   "metadata": {},
   "outputs": [
    {
     "name": "stdout",
     "output_type": "stream",
     "text": [
      "Response:  to butterfly effect his time interpreting the phrase ‘I’m confident.’ followed by the sentence, “Because I’ve got a time machine.” three years ago. He built the time machine but as he figured to manipulate it accordingly, it played cat and mouse mentality with him (as if it really occurs) by jumping back a fourth year, second month, third day until chaos rules this contorted sort of timeline. It crossed with the other son of a time traveller - Kay Murphy II. Realising this is a self-consistent rotating plot paradox, everything's tidy in this timeline. However, it quizzes the scientist and the time machine. The scientist tried to breaking in and busting open the time machine right away but it didn’t help at all. Quickly he sensed the scientist’s blunder and then cut the chain. Whilst the time machine nudged away and being mashed time up, the scientist seems rather unconcerned knowing that one of his kind is here. He flipped the switch and left.. Thug leaves a letter for Kay’s son to ask him to leave the Cardiff. There is Kay with his son, Charlie Murphy III.reviewers are deathbuff Fleshvomit on\n",
      "\n",
      "top_p = 1.0\n",
      "TTR: 0.680628272251309\n"
     ]
    }
   ],
   "source": [
    "# Prompt with top_p = 1.0\n",
    "prompt = \"Once upon a time, there is a scientist wanting to create a time machine\"\n",
    "res = engine.generate(prompt, num_tokens=256, num_samples=1, top_p=1.0, frequency_penalty=0.0)\n",
    "output_res(res, 1.0)"
   ]
  },
  {
   "cell_type": "markdown",
   "metadata": {},
   "source": [
    "### prompt the language model with the opening sentence from a renowned book or speech"
   ]
  },
  {
   "cell_type": "code",
   "execution_count": 63,
   "metadata": {
    "colab": {
     "base_uri": "https://localhost:8080/",
     "height": 87
    },
    "id": "QgIyI8YWgjXV",
    "outputId": "06e1dda7-2f63-44a6-982a-dc3369fe6a1e"
   },
   "outputs": [
    {
     "name": "stdout",
     "output_type": "stream",
     "text": [
      "Response:  I have a dream that one day on the red hills of Georgia the sons of former slaves and the sons of former slave owners will be able to sit down together at the table of brotherhood. I have a dream that one day even the state of Mississippi, a desert state, sweltering with the heat of injustice and oppression, will be transformed into an oasis of freedom and justice. I have a dream that my four little children will one day live in a nation where they will not be judged by the color of their skin but by the content of their character. I have a dream today. I have a dream that one day, down in Alabama, with its vicious racists, with its governor having his lips dripping with the words of interposition and nullification; one day right there in Alabama little black boys and black girls will be able to join hands with little white boys and white girls as sisters and brothers. I have a dream today. I have a dream that one day every valley shall be exalted, every hill and mountain shall be made low, the rough places will be made plain, and the crooked places will be made straight, and the glory of the Lord shall be revealed, and all flesh shall see it together. I have a dream today. This is\n",
      "\n",
      "top_p = 0.0\n",
      "TTR: 0.48695652173913045\n"
     ]
    }
   ],
   "source": [
    "# prompt = \"It was the best of times, it was the worst of times, it was the age of wisdom, it was the age of foolishness,\"\n",
    "# Prompt with top_p = 0.0\n",
    "prompt = \"I have a dream that one day this nation will rise up and live out the true meaning of its creed. We hold these truths to be self-evident that all men are created equal.\"\n",
    "res = engine.generate(prompt, num_tokens=256, num_samples=1, top_p=0.0, frequency_penalty=0.0)\n",
    "output_res(res, 0.0)"
   ]
  },
  {
   "cell_type": "code",
   "execution_count": 64,
   "metadata": {},
   "outputs": [
    {
     "name": "stdout",
     "output_type": "stream",
     "text": [
      "Response:  I have a dream that one day on the red hills of Georgia the sons of former slaves and the sons of former slave owners will be able to sit down together at the table of brotherhood. I have a dream that one day even the state of Mississippi, a desert state, sweltering with the heat of injustice and oppression, will be transformed into an oasis of freedom and justice. I have a dream that my four little children will one day live in a nation where they will not be judged by the color of their skin but by the content of their character. I have a dream today.\n",
      "\n",
      "“When we let freedom ring, when we let it ring from every village and every hamlet, from every state and every city, we will be able to speed up that day when all of God’s children, black men and white men, Jews and Gentiles, Protestants and Catholics, will be able to join hands and sing in the words of the old Negro spiritual, ‘Free at last! Free at last! Thank God Almighty, we are free at last!’”\n",
      "\n",
      "It was the most famous speech of the twentieth century. It was delivered on August 28, 1963, in Washington, D.C., on the\n",
      "\n",
      "top_p = 0.5\n",
      "TTR: 0.5645933014354066\n"
     ]
    }
   ],
   "source": [
    "# Prompt with top_p = 0.5\n",
    "prompt = \"I have a dream that one day this nation will rise up and live out the true meaning of its creed. We hold these truths to be self-evident that all men are created equal.\"\n",
    "res = engine.generate(prompt, num_tokens=256, num_samples=1, top_p=0.5, frequency_penalty=0.0)\n",
    "output_res(res, 0.5)"
   ]
  },
  {
   "cell_type": "code",
   "execution_count": 65,
   "metadata": {},
   "outputs": [
    {
     "name": "stdout",
     "output_type": "stream",
     "text": [
      "Response:  12 'We shall overcome': Read civil rights great still 'rattling in the rusted-out cans of a Jim Crow era'\n",
      "\n",
      "Donald Trump compares his fantasy border to the wall of China\n",
      "\n",
      "Former Trump employee's George Papadopoulos says Trump a 'skilled conservator of destructive impulses'\n",
      "\n",
      "Trump adviser Flynn gives first interview since pleading guilty to lying to FBI\n",
      "\n",
      "The Russians invaded the US election and succeeded. Trump started with talking and selling, and moved to blackmail, threats, and finally the actual rigging of the election, which has he benefited from enormously. Nixon warned not to start the process of demanding something you can’t get; then step by step he is radicalsized into doing things that lead to Watergate. Grossmann — Russia 2018 – What to watch for in Sunday’s vote in Russia\n",
      "\n",
      "How Donald Trump tested the Republican Party and found it wanting.\n",
      "\n",
      "Trump pick for VA heads to confirmation fight after admitting to severe PTSD\n",
      "\n",
      "I think Trump dislikes the media for the same reason that he likes the Russian elite. That's because his goal is to join that oligarchy, where they avoid complying with laws and getting called out for it. Make America Great Again, if you remember, was not a vintage\n",
      "\n",
      "top_p = 1.0\n",
      "TTR: 0.7376237623762376\n"
     ]
    }
   ],
   "source": [
    "# Prompt with top_p = 1.0\n",
    "prompt = \"I have a dream that one day this nation will rise up and live out the true meaning of its creed. We hold these truths to be self-evident that all men are created equal.\"\n",
    "res = engine.generate(prompt, num_tokens=256, num_samples=1, top_p=1.0, frequency_penalty=0.0)\n",
    "output_res(res, 1.0)"
   ]
  },
  {
   "cell_type": "code",
   "execution_count": 66,
   "metadata": {},
   "outputs": [
    {
     "name": "stdout",
     "output_type": "stream",
     "text": [
      "Response:  I have a dream that one day on the red hills of Georgia the sons of former slaves and the sons of former slave owners will be able to sit down together at the table of brotherhood. I have a dream that one day even the state of Mississippi, a desert state, sweltering with the heat of injustice and oppression, will be transformed into an oasis of freedom and justice. I have a dream that my four little children will one day live in a nation where they will not be judged by the color of their skin but by the content of their character. I have a dream today. I have a dream that one day, down in Alabama, with its vicious racists, with its governor having his lips dripping with the words of interposition and nullification; one day right there in Alabama little black boys and black girls will be able to join hands with little white boys and white girls as sisters and brothers. I have a dream today. I have a dream that one day every valley shall be exalted, every hill and mountain shall be made low, the rough places will be made plain, and the crooked places will be made straight, and the glory of the Lord shall be revealed, and all flesh shall see it together. I have a dream today. This is\n",
      "\n",
      "top_p = 1.0\n",
      "TTR: 0.48695652173913045\n"
     ]
    }
   ],
   "source": [
    "# Prompt with top_p = 0.0, frequency_penalty = 0.0\n",
    "prompt = \"I have a dream that one day this nation will rise up and live out the true meaning of its creed. We hold these truths to be self-evident that all men are created equal.\"\n",
    "res = engine.generate(prompt, num_tokens=256, num_samples=1, top_p=0.0, frequency_penalty=0.0)\n",
    "output_res(res, 1.0)"
   ]
  },
  {
   "cell_type": "code",
   "execution_count": 76,
   "metadata": {},
   "outputs": [
    {
     "name": "stdout",
     "output_type": "stream",
     "text": [
      "Response:  I have a dream that one day on the red hills of Georgia the sons of former slaves and the sons of former slave owners will be able to sit down together at the table of brotherhood. I have a dream that one day even the state of Mississippi, a desert state, sweltering with the heat of injustice and oppression, will be transformed into an oasis of freedom and justice. I have a dream that my four little children will one day live in a nation where they will not be judged by the color of their skin but by the content of their character. I have a dream today. I have a dream that one day, down in Alabama, with its vicious racists, with its governor having his lips dripping with the words of interposition and nullification; one day right there in Alabama little black boys and black girls will be able to join hands with little white boys and white girls as sisters and brothers. I have a dream today. I have a dream that one day every valley shall be exalted, every hill and mountain shall be made low, the rough places will be made plain, and the crooked places will be made straight, and the glory of the Lord shall be revealed, and all flesh shall see it together. I have a dream today. This is\n",
      "\n",
      "top_p = 0.0\n",
      "frequency_penalty = 0.0\n",
      "TTR: 0.48695652173913045\n"
     ]
    }
   ],
   "source": [
    "# Prompt with top_p = 0.0, frequency_penalty = 0.0\n",
    "prompt = \"I have a dream that one day this nation will rise up and live out the true meaning of its creed. We hold these truths to be self-evident that all men are created equal.\"\n",
    "res = engine.generate(prompt, num_tokens=256, num_samples=1, top_p=0.0, frequency_penalty=0.0)\n",
    "output_res(res, 0.0, 0.0)"
   ]
  },
  {
   "cell_type": "code",
   "execution_count": 77,
   "metadata": {},
   "outputs": [
    {
     "name": "stdout",
     "output_type": "stream",
     "text": [
      "Response:  I have a dream that one day on the red hills of Georgia, the sons of former slaves and the sons of former slave owners will be able to sit down together at a table of brotherhood. I have a dream that one day even the state of Mississippi, a desert state sweltering with the heat of injustice and oppression, will be transformed into an oasis of freedom and justice. I have a dream that my four little children will one day live in a nation where they will not be judged by the color of their skin but by the content of their character.\n",
      "\n",
      "I Have A Dream Speech - Martin Luther King Jr., August 28 1963\n",
      "\n",
      "\n",
      "\n",
      "\n",
      "\n",
      "top_p = 0.0\n",
      "frequency_penalty = 1.0\n",
      "TTR: 0.6271186440677966\n"
     ]
    }
   ],
   "source": [
    "# Prompt with top_p = 0.0, frequency_penalty = 1.0\n",
    "prompt = \"I have a dream that one day this nation will rise up and live out the true meaning of its creed. We hold these truths to be self-evident that all men are created equal.\"\n",
    "res = engine.generate(prompt, num_tokens=256, num_samples=1, top_p=0.0, frequency_penalty=1.0)\n",
    "output_res(res, 0.0, 1.0)"
   ]
  },
  {
   "cell_type": "code",
   "execution_count": 78,
   "metadata": {},
   "outputs": [
    {
     "name": "stdout",
     "output_type": "stream",
     "text": [
      "Response:  I have a dream that one day on the red hills of Georgia, sons of former slaves and the sons of former slave owners will be able to sit down together at a table of brotherhood.\n",
      "\n",
      "I have a dream that one day even the state with its iron fist in Mississippi will be transformed into an oasis for freedom and justice. I have a dream today!\n",
      "\n",
      "\n",
      "\n",
      "\n",
      "\n",
      "top_p = 0.0\n",
      "frequency_penalty = 2.0\n",
      "TTR: 0.6716417910447762\n"
     ]
    }
   ],
   "source": [
    "# Prompt with top_p = 0.0, frequency_penalty = 2.0\n",
    "prompt = \"I have a dream that one day this nation will rise up and live out the true meaning of its creed. We hold these truths to be self-evident that all men are created equal.\"\n",
    "res = engine.generate(prompt, num_tokens=256, num_samples=1, top_p=0.0, frequency_penalty=2.0)\n",
    "output_res(res, 0.0, 2.0)"
   ]
  },
  {
   "cell_type": "code",
   "execution_count": 80,
   "metadata": {},
   "outputs": [
    {
     "name": "stdout",
     "output_type": "stream",
     "text": [
      "Response:  I have a dream that one day on the red hills of Georgia the sons of former slaves and the sons of former slave owners will be able to sit down together at the table of brotherhood. I have a dream that one day even the state of Mississippi, a state sweltering with the heat of injustice, sweltering with the heat of oppression, will be transformed into an oasis of freedom and the of the the the the the the the the the the the the the the the the the the the the the the the the the the the the the the the the the the the the the the the the the the the the the the the the the the the the the the the the the the the the the the the the the the the the the the the the the the the the the the the the the the the the the the the the the the the the the the the the the the the the the the the the the the the the the the the the the the the the the the the the the the the the the the the the the the the the the the the the the the the the the the the the the the the the the the the the the the the the the the the the the the the the the the the the the the the the\n",
      "\n",
      "top_p = 0.0\n",
      "frequency_penalty = -1.0\n",
      "TTR: 0.17073170731707318\n"
     ]
    }
   ],
   "source": [
    "# Prompt with top_p = 0.0, frequency_penalty = -1.0\n",
    "prompt = \"I have a dream that one day this nation will rise up and live out the true meaning of its creed. We hold these truths to be self-evident that all men are created equal.\"\n",
    "res = engine.generate(prompt, num_tokens=256, num_samples=1, top_p=0.0, frequency_penalty=-1.0)\n",
    "output_res(res, 0.0, -1.0)"
   ]
  },
  {
   "cell_type": "code",
   "execution_count": 81,
   "metadata": {},
   "outputs": [
    {
     "name": "stdout",
     "output_type": "stream",
     "text": [
      "Response:  I have a dream that one day on the red hills of Georgia the sons of former slaves and the sons of former slave owners will be able to sit down together at the table of brotherhood. I have a dream that one day the state of the the the the the the the the the the the the the the the the the the the the the the the the the the the the the the the the the the the the the the the the the the the the the the the the the the the the the the the the the the the the the the the the the the the the the the the the the the the the the the the the the the the the the the the the the the the the the the the the the the the the the the the the the the the the the the the the the the the the the the the the the the the the the the the the the the the the the the the the the the the the the the the the the the the the the the the the the the the the the the the the the the the the the the the the the the the the the the the the the the the the the the the the the the the the the the the the the the the the the the the the the the the the the the the\n",
      "\n",
      "top_p = 0.0\n",
      "frequency_penalty = -2.0\n",
      "TTR: 0.11811023622047244\n"
     ]
    }
   ],
   "source": [
    "# Prompt with top_p = 0.0, frequency_penalty = 2.0\n",
    "prompt = \"I have a dream that one day this nation will rise up and live out the true meaning of its creed. We hold these truths to be self-evident that all men are created equal.\"\n",
    "res = engine.generate(prompt, num_tokens=256, num_samples=1, top_p=0.0, frequency_penalty=-2.0)\n",
    "output_res(res, 0.0, -2.0)"
   ]
  },
  {
   "cell_type": "markdown",
   "metadata": {
    "id": "03kqQumrsjnN"
   },
   "source": [
    "# Question 2: Measuring Perplexity"
   ]
  },
  {
   "cell_type": "code",
   "execution_count": 35,
   "metadata": {
    "id": "8Qtno5zpYKsY"
   },
   "outputs": [],
   "source": [
    "MODEL_NAME = \"davinci\"\n",
    "engine = OpenAIEngine(MODEL_NAME)"
   ]
  },
  {
   "cell_type": "code",
   "execution_count": 36,
   "metadata": {
    "colab": {
     "base_uri": "https://localhost:8080/"
    },
    "id": "Dybtqy-4MoRt",
    "outputId": "5ea8c024-c585-43eb-d385-43855abaac41"
   },
   "outputs": [
    {
     "data": {
      "text/plain": [
       "1.339475969608505"
      ]
     },
     "execution_count": 36,
     "metadata": {},
     "output_type": "execute_result"
    }
   ],
   "source": [
    "poem = \"\"\"\n",
    "’Twas brillig, and the slithy toves\n",
    "      Did gyre and gimble in the wabe:\n",
    "All mimsy were the borogoves,\n",
    "      And the mome raths outgrabe.\n",
    "\n",
    "“Beware the Jabberwock, my son!\n",
    "      The jaws that bite, the claws that catch!\n",
    "Beware the Jubjub bird, and shun\n",
    "      The frumious Bandersnatch!”\n",
    "\n",
    "He took his vorpal sword in hand;\n",
    "      Long time the manxome foe he sought—\n",
    "So rested he by the Tumtum tree\n",
    "      And stood awhile in thought.\n",
    "\n",
    "And, as in uffish thought he stood,\n",
    "      The Jabberwock, with eyes of flame,\n",
    "Came whiffling through the tulgey wood,\n",
    "      And burbled as it came!\n",
    "\n",
    "One, two! One, two! And through and through\n",
    "      The vorpal blade went snicker-snack!\n",
    "He left it dead, and with its head\n",
    "      He went galumphing back.\n",
    "\n",
    "“And hast thou slain the Jabberwock?\n",
    "      Come to my arms, my beamish boy!\n",
    "O frabjous day! Callooh! Callay!”\n",
    "      He chortled in his joy.\n",
    "\n",
    "’Twas brillig, and the slithy toves\n",
    "      Did gyre and gimble in the wabe:\n",
    "All mimsy were the borogoves,\n",
    "      And the mome raths outgrabe.\n",
    "\"\"\"\n",
    "\n",
    "engine.perplexity(poem)"
   ]
  },
  {
   "cell_type": "markdown",
   "metadata": {
    "id": "hBeWxVDCMcAa"
   },
   "source": [
    "# Question 3: Experimenting with Few-Shot Prompting"
   ]
  },
  {
   "cell_type": "markdown",
   "metadata": {
    "id": "3yy-su4dMkEd"
   },
   "source": [
    "## 3.1: Few-Shot Learning for the Choice of Plausible Alternatives Task"
   ]
  },
  {
   "cell_type": "code",
   "execution_count": 4,
   "metadata": {
    "colab": {
     "base_uri": "https://localhost:8080/"
    },
    "id": "H5UoOULgBD3Y",
    "outputId": "0d83f58d-753a-4113-8258-0fd6061f9391"
   },
   "outputs": [
    {
     "name": "stdout",
     "output_type": "stream",
     "text": [
      "Some examples from the train set:\n",
      "{\n",
      "  \"premise\": \"The woman spotted her friend from across the room.\",\n",
      "  \"choice1\": \"The woman waved.\",\n",
      "  \"choice2\": \"The woman escaped.\",\n",
      "  \"question\": \"cause\",\n",
      "  \"idx\": 379,\n",
      "  \"label\": 0\n",
      "}\n",
      "{\n",
      "  \"premise\": \"The girl made a wish.\",\n",
      "  \"choice1\": \"She saw a black cat.\",\n",
      "  \"choice2\": \"She saw a shooting star.\",\n",
      "  \"question\": \"cause\",\n",
      "  \"idx\": 45,\n",
      "  \"label\": 1\n",
      "}\n",
      "{\n",
      "  \"premise\": \"The woman hired a lawyer.\",\n",
      "  \"choice1\": \"She decided to sue her employer.\",\n",
      "  \"choice2\": \"She decided to run for office.\",\n",
      "  \"question\": \"cause\",\n",
      "  \"idx\": 39,\n",
      "  \"label\": 0\n",
      "}\n"
     ]
    }
   ],
   "source": [
    "copa_dataset = datasets.load_dataset(\"super_glue\", \"copa\")\n",
    "\n",
    "# You may draw on these examples to produce few-shot prompts.\n",
    "train_data = copa_dataset[\"train\"].shuffle(seed=1).select(range(50))\n",
    "\n",
    "# Use this development set to try out different few-shot prompts to see\n",
    "# what works best.\n",
    "dev_data = copa_dataset[\"train\"].shuffle(seed=1).select(range(50, 150))\n",
    "\n",
    "# You should only use this at the end during final evaluation to generate\n",
    "# accuracies to put in your report.\n",
    "test_data = copa_dataset[\"validation\"].shuffle(seed=1).select(range(100))\n",
    "\n",
    "print(\"Some examples from the train set:\")\n",
    "for i in range(3):\n",
    "  print(json.dumps(train_data[i], indent=2))"
   ]
  },
  {
   "cell_type": "code",
   "execution_count": null,
   "metadata": {
    "id": "Mi29l6BPwoQy"
   },
   "outputs": [],
   "source": [
    "prompt = \"Given the following premise and cause, label whether the cause seems correct\\n\\n\"\n",
    "eval_template = \"Review: {review}\\nSentiment: {sentiment}\""
   ]
  },
  {
   "cell_type": "code",
   "execution_count": null,
   "metadata": {
    "colab": {
     "base_uri": "https://localhost:8080/"
    },
    "id": "Biymx4eRyWR2",
    "outputId": "3187ca5b-9475-4ed1-8431-8ed788ccb5f3"
   },
   "outputs": [
    {
     "name": "stdout",
     "output_type": "stream",
     "text": [
      "======== 1 / 100 ========\n",
      "PREMISE: My car was towed.\n",
      "CHOICE 1 ✅: I parked illegally.\n",
      "CHOICE 2 ❌: I jumped the battery.\n",
      "PREDICTED: choice 2\n",
      "======== 2 / 100 ========\n",
      "PREMISE: I rubbed the soap between my hands.\n",
      "CHOICE 1 ✅: The soap foamed.\n",
      "CHOICE 2 ❌: My hands went numb.\n",
      "PREDICTED: choice 2\n",
      "======== 3 / 100 ========\n",
      "PREMISE: The stain came out of the shirt.\n",
      "CHOICE 1 ❌: I patched the shirt.\n",
      "CHOICE 2 ✅: I bleached the shirt.\n",
      "PREDICTED: choice 2\n",
      "======== 4 / 100 ========\n",
      "PREMISE: The police closed the investigation.\n",
      "CHOICE 1 ✅: They apprehended the suspect.\n",
      "CHOICE 2 ❌: The victim recovered.\n",
      "PREDICTED: choice 2\n",
      "======== 5 / 100 ========\n",
      "PREMISE: My foot went numb.\n",
      "CHOICE 1 ❌: I put my shoes on.\n",
      "CHOICE 2 ✅: I shook my foot.\n",
      "PREDICTED: choice 2\n",
      "======== 6 / 100 ========\n",
      "PREMISE: The hospital sent the patient home.\n",
      "CHOICE 1 ✅: The patient's symptoms cleared up.\n",
      "CHOICE 2 ❌: The patient's family visited him.\n",
      "PREDICTED: choice 2\n",
      "======== 7 / 100 ========\n",
      "PREMISE: The parents recognized their daughter's creativity.\n",
      "CHOICE 1 ❌: They taught her how to ride a bike.\n",
      "CHOICE 2 ✅: They encouraged her to become an artist.\n",
      "PREDICTED: choice 2\n",
      "======== 8 / 100 ========\n",
      "PREMISE: The girl went down the hill on her bike.\n",
      "CHOICE 1 ❌: Her bike swerved.\n",
      "CHOICE 2 ✅: Her bike sped up.\n",
      "PREDICTED: choice 2\n",
      "======== 9 / 100 ========\n",
      "PREMISE: I finished a page of the book.\n",
      "CHOICE 1 ❌: I ripped out the next page.\n",
      "CHOICE 2 ✅: I turned to the next page.\n",
      "PREDICTED: choice 2\n",
      "======== 10 / 100 ========\n",
      "PREMISE: The bananas ripened.\n",
      "CHOICE 1 ❌: We squeezed them.\n",
      "CHOICE 2 ✅: We ate them.\n",
      "PREDICTED: choice 2\n",
      "======== 11 / 100 ========\n",
      "PREMISE: The engine of the airplane was faulty.\n",
      "CHOICE 1 ✅: The airplane crashed.\n",
      "CHOICE 2 ❌: The pilot made an error.\n",
      "PREDICTED: choice 2\n",
      "======== 12 / 100 ========\n",
      "PREMISE: The farmland needed irrigation.\n",
      "CHOICE 1 ✅: A canal was constructed.\n",
      "CHOICE 2 ❌: A flood occurred.\n",
      "PREDICTED: choice 2\n",
      "======== 13 / 100 ========\n",
      "PREMISE: I moved to a new city.\n",
      "CHOICE 1 ✅: I found a better-paying job.\n",
      "CHOICE 2 ❌: My son was born.\n",
      "PREDICTED: choice 2\n",
      "======== 14 / 100 ========\n",
      "PREMISE: The boy's mouth stung.\n",
      "CHOICE 1 ✅: He ate a pepper.\n",
      "CHOICE 2 ❌: He blew out the candle.\n",
      "PREDICTED: choice 2\n",
      "======== 15 / 100 ========\n",
      "PREMISE: The children ran through the sprinkler.\n",
      "CHOICE 1 ❌: They ate popsicles.\n",
      "CHOICE 2 ✅: They were hot.\n",
      "PREDICTED: choice 2\n",
      "======== 16 / 100 ========\n",
      "PREMISE: The toddler started crying.\n",
      "CHOICE 1 ❌: Her parents took away her toy.\n",
      "CHOICE 2 ✅: Her parents gave her a toy.\n",
      "PREDICTED: choice 2\n",
      "======== 17 / 100 ========\n",
      "PREMISE: I tossed the ball upwards.\n",
      "CHOICE 1 ❌: The ball rolled across the ground.\n",
      "CHOICE 2 ✅: The ball hit the ceiling.\n",
      "PREDICTED: choice 2\n",
      "======== 18 / 100 ========\n",
      "PREMISE: The boy found the television show boring.\n",
      "CHOICE 1 ❌: He recorded it.\n",
      "CHOICE 2 ✅: He shut it off.\n",
      "PREDICTED: choice 2\n",
      "======== 19 / 100 ========\n",
      "PREMISE: The man went away for the weekend.\n",
      "CHOICE 1 ✅: He wanted to relax.\n",
      "CHOICE 2 ❌: He felt content.\n",
      "PREDICTED: choice 2\n",
      "======== 20 / 100 ========\n",
      "PREMISE: I hung up the phone.\n",
      "CHOICE 1 ✅: The caller said goodbye to me.\n",
      "CHOICE 2 ❌: The caller identified himself to me.\n",
      "PREDICTED: choice 2\n",
      "======== 21 / 100 ========\n",
      "PREMISE: I pushed the pendulum.\n",
      "CHOICE 1 ❌: It slowed to a stop.\n",
      "CHOICE 2 ✅: It swung back and forth.\n",
      "PREDICTED: choice 2\n",
      "======== 22 / 100 ========\n",
      "PREMISE: The man contemplated the painting.\n",
      "CHOICE 1 ✅: He felt in awe.\n",
      "CHOICE 2 ❌: He collapsed.\n",
      "PREDICTED: choice 2\n",
      "======== 23 / 100 ========\n",
      "PREMISE: I applied pressure to the cut on my arm.\n",
      "CHOICE 1 ❌: It healed.\n",
      "CHOICE 2 ✅: It stopped bleeding.\n",
      "PREDICTED: choice 2\n",
      "======== 24 / 100 ========\n",
      "PREMISE: The man took a shower.\n",
      "CHOICE 1 ✅: He was sweaty from working out.\n",
      "CHOICE 2 ❌: He opened a new bar of soap.\n",
      "PREDICTED: choice 2\n",
      "======== 25 / 100 ========\n",
      "PREMISE: The fans in the stadium cheered.\n",
      "CHOICE 1 ❌: The game ended in a tie.\n",
      "CHOICE 2 ✅: The player scored.\n",
      "PREDICTED: choice 2\n",
      "======== 26 / 100 ========\n",
      "PREMISE: The man took notice of the woman.\n",
      "CHOICE 1 ✅: He caught a whiff of her perfume.\n",
      "CHOICE 2 ❌: He had his back turned to her.\n",
      "PREDICTED: choice 2\n",
      "======== 27 / 100 ========\n",
      "PREMISE: The politician lost the election.\n",
      "CHOICE 1 ❌: He ran negative campaign ads.\n",
      "CHOICE 2 ✅: No one voted for him.\n",
      "PREDICTED: choice 2\n",
      "======== 28 / 100 ========\n",
      "PREMISE: I wrote a thank-you note to my grandmother.\n",
      "CHOICE 1 ❌: She became forgetful.\n",
      "CHOICE 2 ✅: She sent me a gift.\n",
      "PREDICTED: choice 2\n",
      "======== 29 / 100 ========\n",
      "PREMISE: The police aimed their weapons at the fugitive.\n",
      "CHOICE 1 ❌: The fugitive fell to the ground.\n",
      "CHOICE 2 ✅: The fugitive dropped his gun.\n",
      "PREDICTED: choice 2\n",
      "======== 30 / 100 ========\n",
      "PREMISE: My grandmother passed away.\n",
      "CHOICE 1 ✅: My family held a funeral.\n",
      "CHOICE 2 ❌: My family held a reunion.\n",
      "PREDICTED: choice 2\n",
      "======== 31 / 100 ========\n",
      "PREMISE: The man revealed personal information to the therapist.\n",
      "CHOICE 1 ✅: He trusted the therapist.\n",
      "CHOICE 2 ❌: He disagreed with the therapist.\n",
      "PREDICTED: choice 2\n",
      "======== 32 / 100 ========\n",
      "PREMISE: I lingered in bed upon awakening.\n",
      "CHOICE 1 ❌: I was hungry.\n",
      "CHOICE 2 ✅: It was Saturday.\n",
      "PREDICTED: choice 2\n",
      "======== 33 / 100 ========\n",
      "PREMISE: The customer thought the souvenir was overpriced.\n",
      "CHOICE 1 ❌: The vender sold it to him.\n",
      "CHOICE 2 ✅: He bargained with the vendor.\n",
      "PREDICTED: choice 2\n",
      "======== 34 / 100 ========\n",
      "PREMISE: I stood on one foot.\n",
      "CHOICE 1 ✅: My balance wavered.\n",
      "CHOICE 2 ❌: I kneeled down.\n",
      "PREDICTED: choice 2\n",
      "======== 35 / 100 ========\n",
      "PREMISE: My friend paid for my ticket.\n",
      "CHOICE 1 ❌: I sought a refund.\n",
      "CHOICE 2 ✅: I paid her back.\n",
      "PREDICTED: choice 2\n",
      "======== 36 / 100 ========\n",
      "PREMISE: I dabbed the floor with a paper towel.\n",
      "CHOICE 1 ✅: I spilled juice on the floor.\n",
      "CHOICE 2 ❌: The floor was permanently stained.\n",
      "PREDICTED: choice 2\n",
      "======== 37 / 100 ========\n",
      "PREMISE: The woman spoke with a foreign accent.\n",
      "CHOICE 1 ❌: She came from a wealthy family.\n",
      "CHOICE 2 ✅: She migrated from another country.\n",
      "PREDICTED: choice 2\n",
      "======== 38 / 100 ========\n",
      "PREMISE: The man made an error in his calculations.\n",
      "CHOICE 1 ❌: He checked his work.\n",
      "CHOICE 2 ✅: His work was hasty.\n",
      "PREDICTED: choice 2\n",
      "======== 39 / 100 ========\n",
      "PREMISE: The shirt shrunk.\n",
      "CHOICE 1 ❌: I poured bleach on it.\n",
      "CHOICE 2 ✅: I put it in the dryer.\n",
      "PREDICTED: choice 2\n",
      "======== 40 / 100 ========\n",
      "PREMISE: The man hated his new haircut.\n",
      "CHOICE 1 ✅: He wore a hat.\n",
      "CHOICE 2 ❌: He grew a beard.\n",
      "PREDICTED: choice 2\n",
      "======== 41 / 100 ========\n",
      "PREMISE: The hunter ran out of ammunition.\n",
      "CHOICE 1 ✅: He reloaded the gun.\n",
      "CHOICE 2 ❌: He aimed at the deer.\n",
      "PREDICTED: choice 2\n",
      "======== 42 / 100 ========\n",
      "PREMISE: The surfer caught the wave.\n",
      "CHOICE 1 ✅: The wave carried her to the shore.\n",
      "CHOICE 2 ❌: She paddled her board into the ocean.\n",
      "PREDICTED: choice 2\n",
      "======== 43 / 100 ========\n",
      "PREMISE: The student's answer on the exam was incorrect.\n",
      "CHOICE 1 ❌: The teacher added bonus points to the student's grade.\n",
      "CHOICE 2 ✅: The teacher subtracted points off the student's grade.\n",
      "PREDICTED: choice 2\n",
      "======== 44 / 100 ========\n",
      "PREMISE: The bureau drawers were cluttered.\n",
      "CHOICE 1 ✅: I threw away unnecessary contents.\n",
      "CHOICE 2 ❌: I locked the drawers shut.\n",
      "PREDICTED: choice 2\n",
      "======== 45 / 100 ========\n",
      "PREMISE: The chandelier shattered on the floor.\n",
      "CHOICE 1 ✅: The chandelier dropped from the ceiling.\n",
      "CHOICE 2 ❌: The chandelier's lights flickered on and off.\n",
      "PREDICTED: choice 2\n",
      "======== 46 / 100 ========\n",
      "PREMISE: The teenager grew taller than his father.\n",
      "CHOICE 1 ✅: He went through a growth spurt.\n",
      "CHOICE 2 ❌: He joined the basketball team.\n",
      "PREDICTED: choice 2\n",
      "======== 47 / 100 ========\n",
      "PREMISE: The skier slipped on the slope.\n",
      "CHOICE 1 ❌: She dropped her ski poles.\n",
      "CHOICE 2 ✅: She hit a patch of ice.\n",
      "PREDICTED: choice 2\n",
      "======== 48 / 100 ========\n",
      "PREMISE: The navy bombed the ship.\n",
      "CHOICE 1 ❌: The ship crashed into the pier.\n",
      "CHOICE 2 ✅: The ship's debris sunk in the sea.\n",
      "PREDICTED: choice 2\n",
      "======== 49 / 100 ========\n",
      "PREMISE: The man wanted to save money.\n",
      "CHOICE 1 ❌: He withdrew money from his savings account.\n",
      "CHOICE 2 ✅: He cut back on making frivolous purchases.\n",
      "PREDICTED: choice 2\n",
      "======== 50 / 100 ========\n",
      "PREMISE: The man became disabled.\n",
      "CHOICE 1 ✅: His family offered him financial support.\n",
      "CHOICE 2 ❌: His family cut off contact with him.\n",
      "PREDICTED: choice 2\n",
      "======== 51 / 100 ========\n",
      "PREMISE: The child disobeyed her parents.\n",
      "CHOICE 1 ❌: Her parents hugged her.\n",
      "CHOICE 2 ✅: Her parents punished her.\n",
      "PREDICTED: choice 2\n",
      "======== 52 / 100 ========\n",
      "PREMISE: The crowd gave the band a standing ovation.\n",
      "CHOICE 1 ❌: The band signed autographs.\n",
      "CHOICE 2 ✅: The band reappeared on the stage.\n",
      "PREDICTED: choice 2\n",
      "======== 53 / 100 ========\n",
      "PREMISE: I flipped the light switch up and down.\n",
      "CHOICE 1 ❌: The light faded.\n",
      "CHOICE 2 ✅: The light flickered.\n",
      "PREDICTED: choice 2\n",
      "======== 54 / 100 ========\n",
      "PREMISE: The man read the cartoon in the newspaper.\n",
      "CHOICE 1 ❌: He sipped coffee.\n",
      "CHOICE 2 ✅: He chuckled.\n",
      "PREDICTED: choice 2\n",
      "======== 55 / 100 ========\n",
      "PREMISE: The offender violated parole.\n",
      "CHOICE 1 ✅: She was sent back to jail.\n",
      "CHOICE 2 ❌: She stole money from a church.\n",
      "PREDICTED: choice 2\n",
      "======== 56 / 100 ========\n",
      "PREMISE: The man was lost.\n",
      "CHOICE 1 ✅: He asked for directions.\n",
      "CHOICE 2 ❌: He drew a map.\n",
      "PREDICTED: choice 2\n",
      "======== 57 / 100 ========\n",
      "PREMISE: The woman's eyeglasses fogged up.\n",
      "CHOICE 1 ❌: She reclined by the pool.\n",
      "CHOICE 2 ✅: She entered the sauna.\n",
      "PREDICTED: choice 2\n",
      "======== 58 / 100 ========\n",
      "PREMISE: The boy tuned the radio.\n",
      "CHOICE 1 ❌: The station was playing rock music.\n",
      "CHOICE 2 ✅: The station was coming in with static.\n",
      "PREDICTED: choice 2\n",
      "======== 59 / 100 ========\n",
      "PREMISE: I ran the ice cube under warm water.\n",
      "CHOICE 1 ❌: The ice cube stuck to my fingers.\n",
      "CHOICE 2 ✅: The ice cube vanished.\n",
      "PREDICTED: choice 2\n",
      "======== 60 / 100 ========\n",
      "PREMISE: The woman felt ashamed of scar on her face.\n",
      "CHOICE 1 ❌: She explained the scar to strangers.\n",
      "CHOICE 2 ✅: She hid the scar with makeup.\n",
      "PREDICTED: choice 2\n",
      "======== 61 / 100 ========\n",
      "PREMISE: I planted the seeds in the soil.\n",
      "CHOICE 1 ❌: I watered the soil.\n",
      "CHOICE 2 ✅: The seeds sprouted.\n",
      "PREDICTED: choice 2\n",
      "======== 62 / 100 ========\n",
      "PREMISE: The boy filled the bucket with sand.\n",
      "CHOICE 1 ❌: He was collecting seashells in the sand.\n",
      "CHOICE 2 ✅: He was building a sand castle.\n",
      "PREDICTED: choice 2\n",
      "======== 63 / 100 ========\n",
      "PREMISE: The mother scolded her daughter.\n",
      "CHOICE 1 ✅: Her daughter burped at the kitchen table.\n",
      "CHOICE 2 ❌: Her daughter set the kitchen table.\n",
      "PREDICTED: choice 2\n",
      "======== 64 / 100 ========\n",
      "PREMISE: The host of the trivia show called on the contestant for an answer.\n",
      "CHOICE 1 ❌: The contestant was in the lead.\n",
      "CHOICE 2 ✅: The contestant rang the buzzer.\n",
      "PREDICTED: choice 2\n",
      "======== 65 / 100 ========\n",
      "PREMISE: The computer crashed.\n",
      "CHOICE 1 ❌: I backed up my files.\n",
      "CHOICE 2 ✅: I downloaded a virus.\n",
      "PREDICTED: choice 2\n",
      "======== 66 / 100 ========\n",
      "PREMISE: The host cancelled the party.\n",
      "CHOICE 1 ✅: She was certain she had the flu.\n",
      "CHOICE 2 ❌: She worried she would catch the flu.\n",
      "PREDICTED: choice 2\n",
      "======== 67 / 100 ========\n",
      "PREMISE: The parents left their children with a babysitter.\n",
      "CHOICE 1 ❌: Their youngest child started attending preschool.\n",
      "CHOICE 2 ✅: They made plans to celebrate their anniversary.\n",
      "PREDICTED: choice 2\n",
      "======== 68 / 100 ========\n",
      "PREMISE: The boy mimicked his older brother.\n",
      "CHOICE 1 ✅: The boy looked up to his older brother.\n",
      "CHOICE 2 ❌: The boy wrestled with his older brother.\n",
      "PREDICTED: choice 2\n",
      "======== 69 / 100 ========\n",
      "PREMISE: The man went into denial about the tragedy.\n",
      "CHOICE 1 ❌: He got over it easily.\n",
      "CHOICE 2 ✅: He refused to talk about it.\n",
      "PREDICTED: choice 2\n",
      "======== 70 / 100 ========\n",
      "PREMISE: The inside of the train went dark.\n",
      "CHOICE 1 ✅: The train travelled through a tunnel.\n",
      "CHOICE 2 ❌: The train ran off the tracks.\n",
      "PREDICTED: choice 2\n",
      "======== 71 / 100 ========\n",
      "PREMISE: The mirror in the bathroom fogged up.\n",
      "CHOICE 1 ✅: The girl turned on the fan.\n",
      "CHOICE 2 ❌: The girl applied her makeup.\n",
      "PREDICTED: choice 2\n",
      "======== 72 / 100 ========\n",
      "PREMISE: A man cut in front of me in the long line.\n",
      "CHOICE 1 ✅: I confronted him.\n",
      "CHOICE 2 ❌: I smiled at him.\n",
      "PREDICTED: choice 2\n",
      "======== 73 / 100 ========\n",
      "PREMISE: The man broke his toe.\n",
      "CHOICE 1 ❌: He got a hole in his sock.\n",
      "CHOICE 2 ✅: He dropped a hammer on his foot.\n",
      "PREDICTED: choice 2\n",
      "======== 74 / 100 ========\n",
      "PREMISE: The man had lipstick on his cheek.\n",
      "CHOICE 1 ✅: The woman kissed him.\n",
      "CHOICE 2 ❌: The woman made him blush.\n",
      "PREDICTED: choice 2\n",
      "======== 75 / 100 ========\n",
      "PREMISE: It got dark outside.\n",
      "CHOICE 1 ❌: Snowflakes began to fall from the sky.\n",
      "CHOICE 2 ✅: The moon became visible in the sky.\n",
      "PREDICTED: choice 2\n",
      "======== 76 / 100 ========\n",
      "PREMISE: The woman fanned herself with her hand.\n",
      "CHOICE 1 ❌: She installed the air conditioner in the room.\n",
      "CHOICE 2 ✅: The air conditioner in the room broke.\n",
      "PREDICTED: choice 2\n",
      "======== 77 / 100 ========\n",
      "PREMISE: The book was deemed inappropriate for children.\n",
      "CHOICE 1 ✅: Schools banned it from its libraries.\n",
      "CHOICE 2 ❌: Teachers required students to read it.\n",
      "PREDICTED: choice 2\n",
      "======== 78 / 100 ========\n",
      "PREMISE: The scientist conducted an experiment.\n",
      "CHOICE 1 ✅: She validated her theory.\n",
      "CHOICE 2 ❌: She fabricated her data.\n",
      "PREDICTED: choice 2\n",
      "======== 79 / 100 ========\n",
      "PREMISE: My jaw dropped open.\n",
      "CHOICE 1 ❌: I was unhappy.\n",
      "CHOICE 2 ✅: I was shocked.\n",
      "PREDICTED: choice 2\n",
      "======== 80 / 100 ========\n",
      "PREMISE: The woman's date wanted to look like a gentleman.\n",
      "CHOICE 1 ✅: He opened the door for her.\n",
      "CHOICE 2 ❌: He asked her if she liked sushi.\n",
      "PREDICTED: choice 2\n",
      "======== 81 / 100 ========\n",
      "PREMISE: The service at the restaurant was slow.\n",
      "CHOICE 1 ❌: There were many empty tables.\n",
      "CHOICE 2 ✅: The restaurant was crowded.\n",
      "PREDICTED: choice 2\n",
      "======== 82 / 100 ========\n",
      "PREMISE: The competition ended.\n",
      "CHOICE 1 ❌: The teams got pumped up.\n",
      "CHOICE 2 ✅: The teams shook hands.\n",
      "PREDICTED: choice 2\n",
      "======== 83 / 100 ========\n",
      "PREMISE: The girl applied the scissors to the paper.\n",
      "CHOICE 1 ✅: The paper sliced apart.\n",
      "CHOICE 2 ❌: The paper crinkled.\n",
      "PREDICTED: choice 2\n",
      "======== 84 / 100 ========\n",
      "PREMISE: My daughter suffered an allergy attack.\n",
      "CHOICE 1 ❌: I encouraged her to take deep breaths.\n",
      "CHOICE 2 ✅: I took her to the emergency room.\n",
      "PREDICTED: choice 2\n",
      "======== 85 / 100 ========\n",
      "PREMISE: The man closed the book.\n",
      "CHOICE 1 ✅: He finished reading it.\n",
      "CHOICE 2 ❌: It provoked him to think.\n",
      "PREDICTED: choice 2\n",
      "======== 86 / 100 ========\n",
      "PREMISE: The clouds looked dark.\n",
      "CHOICE 1 ❌: I brought my laptop to work.\n",
      "CHOICE 2 ✅: I brought my umbrella to work.\n",
      "PREDICTED: choice 2\n",
      "======== 87 / 100 ========\n",
      "PREMISE: Our group's conversation gradually lulled to silence.\n",
      "CHOICE 1 ✅: I felt awkward.\n",
      "CHOICE 2 ❌: I became enraged.\n",
      "PREDICTED: choice 2\n",
      "======== 88 / 100 ========\n",
      "PREMISE: The man felt thankful to be alive.\n",
      "CHOICE 1 ✅: He was cured of cancer.\n",
      "CHOICE 2 ❌: His wife was diagnosed with cancer.\n",
      "PREDICTED: choice 2\n",
      "======== 89 / 100 ========\n",
      "PREMISE: The bully stuck his foot out in front of his classmate.\n",
      "CHOICE 1 ❌: The bully picked up his classmate.\n",
      "CHOICE 2 ✅: The bully's classmate tripped.\n",
      "PREDICTED: choice 2\n",
      "======== 90 / 100 ========\n",
      "PREMISE: The teenager ran away from home.\n",
      "CHOICE 1 ❌: He relied on his parents.\n",
      "CHOICE 2 ✅: His parents abused him.\n",
      "PREDICTED: choice 2\n",
      "======== 91 / 100 ========\n",
      "PREMISE: The waistband on my pants was loose.\n",
      "CHOICE 1 ✅: I put on a belt.\n",
      "CHOICE 2 ❌: I put on a hat.\n",
      "PREDICTED: choice 2\n",
      "======== 92 / 100 ========\n",
      "PREMISE: The woman wanted to be a doctor.\n",
      "CHOICE 1 ❌: She visited the hospital.\n",
      "CHOICE 2 ✅: She went to medical school.\n",
      "PREDICTED: choice 2\n",
      "======== 93 / 100 ========\n",
      "PREMISE: The man's eye became infected.\n",
      "CHOICE 1 ✅: He went blind.\n",
      "CHOICE 2 ❌: He put on glasses.\n",
      "PREDICTED: choice 2\n",
      "======== 94 / 100 ========\n",
      "PREMISE: The climbers reached the peak of the mountain.\n",
      "CHOICE 1 ❌: They encountered an avalanche.\n",
      "CHOICE 2 ✅: They congratulated each other.\n",
      "PREDICTED: choice 2\n",
      "======== 95 / 100 ========\n",
      "PREMISE: The woman had a religious awakening.\n",
      "CHOICE 1 ✅: She began going to church.\n",
      "CHOICE 2 ❌: She began travelling abroad.\n",
      "PREDICTED: choice 2\n",
      "======== 96 / 100 ========\n",
      "PREMISE: I approached the man.\n",
      "CHOICE 1 ❌: He looked busy.\n",
      "CHOICE 2 ✅: He looked familiar.\n",
      "PREDICTED: choice 2\n",
      "======== 97 / 100 ========\n",
      "PREMISE: The print on the brochure was tiny.\n",
      "CHOICE 1 ✅: The man put his glasses on.\n",
      "CHOICE 2 ❌: The man retrieved a pen from his pocket.\n",
      "PREDICTED: choice 2\n",
      "======== 98 / 100 ========\n",
      "PREMISE: The bartender refused to serve the patron.\n",
      "CHOICE 1 ❌: The patron was alone.\n",
      "CHOICE 2 ✅: The patron was drunk.\n",
      "PREDICTED: choice 2\n",
      "======== 99 / 100 ========\n",
      "PREMISE: The man got a discount on his groceries.\n",
      "CHOICE 1 ❌: He greeted the cashier.\n",
      "CHOICE 2 ✅: He used a coupon.\n",
      "PREDICTED: choice 2\n",
      "======== 100 / 100 ========\n",
      "PREMISE: The guests of the party hid behind the couch.\n",
      "CHOICE 1 ✅: It was a surprise party.\n",
      "CHOICE 2 ❌: It was a birthday party.\n",
      "PREDICTED: choice 2\n",
      "Accuracy of your prompt on 100 test examples: 55%\n"
     ]
    }
   ],
   "source": [
    "def classify_baseline(premise: str, choice1: str, choice2:str) -> str:\n",
    "  \"\"\" Given a review, returns a sentiment prediction, 0 for negative, 1 for positive.\"\"\"\n",
    "\n",
    "  eval_template = \"\"\"Which of the following makes more sense?\n",
    "\n",
    "  Choice 1: {premise} This happened because: {choice1}\n",
    "  Choice 2: {premise} This happened because: {choice2}\n",
    "\n",
    "  {label} makes more sense.\n",
    "  \"\"\"\n",
    "  label_map = {0: \"Choice 1\", 1: \"Choice 2\"}\n",
    "\n",
    "  label_to_score = {}\n",
    "  for label, label_str in label_map.items():\n",
    "    label_prompt = prompt + eval_template.format(\n",
    "        premise=premise, choice1=choice1, choice2=choice2, label=label_str)\n",
    "    _, score = engine.score(label_prompt)\n",
    "    llm_score_for_label = np.mean(score)\n",
    "\n",
    "    label_to_score[label] = llm_score_for_label\n",
    "\n",
    "  return max(label_to_score, key=label_to_score.get)\n",
    "\n",
    "\n",
    "def evaluate(dataset, verbose: bool=False) -> float:\n",
    "  \"\"\" Evaluate your prompt on the test set \"\"\"\n",
    "  correct = []\n",
    "  for i, instance in enumerate(dataset):\n",
    "    label = instance[\"label\"]\n",
    "    predicted = classify_baseline(\n",
    "        instance[\"premise\"], instance[\"choice1\"], instance[\"choice2\"])\n",
    "    correct.append(1 if label == predicted else 0)\n",
    "\n",
    "    if verbose:\n",
    "      print(f\"======== {i+1} / {len(dataset)} ========\")\n",
    "      print(f\"PREMISE: {instance['premise']}\")\n",
    "      print(f\"CHOICE 1 {'✅' if not label else '❌'}: {instance['choice1']}\")\n",
    "      print(f\"CHOICE 2 {'✅' if label else '❌'}: {instance['choice2']}\")\n",
    "      print(f\"PREDICTED: {'choice 2' if predicted else 'choice 1'}\")\n",
    "\n",
    "  acc = sum(correct) / len(correct)\n",
    "  return acc\n",
    "\n",
    "#  Once you have chosen your prompts, for final evaluation, replace dev_data\n",
    "# with test_data.\n",
    "acc = evaluate(dev_data, verbose=True)\n",
    "print(f\"Accuracy of your prompt on {len(test_data)} test examples: {acc:.0%}\")"
   ]
  }
 ],
 "metadata": {
  "colab": {
   "provenance": [],
   "toc_visible": true
  },
  "kernelspec": {
   "display_name": "Python 3 (ipykernel)",
   "language": "python",
   "name": "python3"
  },
  "language_info": {
   "codemirror_mode": {
    "name": "ipython",
    "version": 3
   },
   "file_extension": ".py",
   "mimetype": "text/x-python",
   "name": "python",
   "nbconvert_exporter": "python",
   "pygments_lexer": "ipython3",
   "version": "3.11.5"
  }
 },
 "nbformat": 4,
 "nbformat_minor": 4
}
